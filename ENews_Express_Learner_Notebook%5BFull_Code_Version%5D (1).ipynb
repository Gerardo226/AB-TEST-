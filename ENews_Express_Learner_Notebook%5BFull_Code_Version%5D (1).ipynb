{
 "cells": [
  {
   "cell_type": "markdown",
   "id": "6yDxo9u0d9Na",
   "metadata": {
    "id": "6yDxo9u0d9Na"
   },
   "source": [
    "# Project Business Statistics: E-news Express\n",
    "\n"
   ]
  },
  {
   "cell_type": "markdown",
   "id": "SrLd-ICEmPSD",
   "metadata": {
    "id": "SrLd-ICEmPSD"
   },
   "source": [
    "## Define Problem Statement and Objectives"
   ]
  },
  {
   "cell_type": "markdown",
   "id": "9Vt1PLLqmXNn",
   "metadata": {
    "id": "9Vt1PLLqmXNn"
   },
   "source": [
    "E-news Express, an online news portal, aims to expand its business by acquiring new subscribers. With every visitor to the website taking certain actions based on their interest, the company plans to analyze these actions to understand user interests and determine how to drive better engagement. The executives at E-news Express are of the opinion that there has been a decline in new monthly subscribers compared to the past year because the current webpage is not designed well enough in terms of the outline & recommended content to keep customers engaged long enough to make a decision to subscribe."
   ]
  },
  {
   "cell_type": "markdown",
   "id": "ec4e2950",
   "metadata": {},
   "source": [
    "The design team of the company has researched and created a new landing page that has a new outline & more relevant content shown compared to the old page. In order to test the effectiveness of the new landing page in gathering new subscribers, the Data Science team conducted an experiment by randomly selecting 100 users and dividing them equally into two groups. The existing landing page was served to the first group (control group) and the new landing page to the second group (treatment group). Data regarding the interaction of users in both groups with the two versions of the landing page was collected. Being a data scientist in E-news Express, you have been asked to explore the data and perform a statistical analysis (at a significance level of 5%) to determine the effectiveness of the new landing page in gathering new subscribers for the news portal by answering the following questions:\n",
    "\n",
    "1. Do the users spend more time on the new landing page than on the existing landing page?\n",
    "2. Is the conversion rate (the proportion of users who visit the landing page and get converted) for the new page greater than the conversion rate for the old page?\n",
    "3. Does the converted status depend on the preferred language?\n",
    "4. Is the time spent on the new page the same for the different language users?"
   ]
  },
  {
   "cell_type": "markdown",
   "id": "6eec527d",
   "metadata": {
    "ExecuteTime": {
     "end_time": "2022-09-19T16:08:12.608876Z",
     "start_time": "2022-09-19T16:08:12.589012Z"
    }
   },
   "source": [
    "# Columns\n",
    "\n",
    "- user_id - Unique user ID of the person visiting the website\n",
    "- group - Whether the user belongs to the first group (control) or the second group (treatment)\n",
    "- landing_page - Whether the landing page is new or old\n",
    "- time_spent_on_the_page - Time (in minutes) spent by the user on the landing page\n",
    "- converted - Whether the user gets converted to a subscriber of the news portal or not\n",
    "- language_preferred - Language chosen by the user to view the landing page"
   ]
  },
  {
   "cell_type": "markdown",
   "id": "a6a3d218",
   "metadata": {
    "id": "a6a3d218"
   },
   "source": [
    "## Import all the necessary libraries"
   ]
  },
  {
   "cell_type": "code",
   "execution_count": 39,
   "id": "658c5dec",
   "metadata": {
    "ExecuteTime": {
     "end_time": "2022-09-23T16:06:30.624503Z",
     "start_time": "2022-09-23T16:06:30.607441Z"
    },
    "id": "658c5dec"
   },
   "outputs": [],
   "source": [
    "import pandas as pd \n",
    "import matplotlib.pyplot as plt \n",
    "import seaborn as sns\n",
    "import scipy.stats as st \n",
    "from scipy.stats import chi2_contingency\n",
    "from statsmodels.stats.proportion import proportions_ztest\n",
    "from scipy.stats import levene\n",
    "import numpy as np\n",
    "sns.set_palette(\"Set2\", 9)\n"
   ]
  },
  {
   "cell_type": "markdown",
   "id": "6970dd99",
   "metadata": {
    "id": "6970dd99"
   },
   "source": [
    "## Reading the Data into a DataFrame"
   ]
  },
  {
   "cell_type": "code",
   "execution_count": 40,
   "id": "d3b95640",
   "metadata": {
    "ExecuteTime": {
     "end_time": "2022-09-23T16:06:31.352211Z",
     "start_time": "2022-09-23T16:06:31.333564Z"
    },
    "id": "d3b95640"
   },
   "outputs": [],
   "source": [
    "\n",
    "df= pd.read_csv('abtest.csv')"
   ]
  },
  {
   "cell_type": "markdown",
   "id": "9d75cfa2",
   "metadata": {
    "id": "9d75cfa2"
   },
   "source": [
    "## Explore the dataset and extract insights using Exploratory Data Analysis"
   ]
  },
  {
   "cell_type": "markdown",
   "id": "27201534",
   "metadata": {
    "id": "27201534"
   },
   "source": [
    "- Data Overview\n",
    "  - Viewing the first and last few rows of the dataset\n",
    "  - Checking the shape of the dataset\n",
    "  - Getting the statistical summary for the variables\n",
    "- Check for missing values\n",
    "- Check for duplicates"
   ]
  },
  {
   "cell_type": "code",
   "execution_count": 41,
   "id": "e1ad11d4",
   "metadata": {
    "ExecuteTime": {
     "end_time": "2022-09-23T16:06:32.019542Z",
     "start_time": "2022-09-23T16:06:32.001344Z"
    },
    "id": "e1ad11d4"
   },
   "outputs": [
    {
     "data": {
      "text/html": [
       "<div>\n",
       "<style scoped>\n",
       "    .dataframe tbody tr th:only-of-type {\n",
       "        vertical-align: middle;\n",
       "    }\n",
       "\n",
       "    .dataframe tbody tr th {\n",
       "        vertical-align: top;\n",
       "    }\n",
       "\n",
       "    .dataframe thead th {\n",
       "        text-align: right;\n",
       "    }\n",
       "</style>\n",
       "<table border=\"1\" class=\"dataframe\">\n",
       "  <thead>\n",
       "    <tr style=\"text-align: right;\">\n",
       "      <th></th>\n",
       "      <th>user_id</th>\n",
       "      <th>group</th>\n",
       "      <th>landing_page</th>\n",
       "      <th>time_spent_on_the_page</th>\n",
       "      <th>converted</th>\n",
       "      <th>language_preferred</th>\n",
       "    </tr>\n",
       "  </thead>\n",
       "  <tbody>\n",
       "    <tr>\n",
       "      <th>0</th>\n",
       "      <td>546592</td>\n",
       "      <td>control</td>\n",
       "      <td>old</td>\n",
       "      <td>3.48</td>\n",
       "      <td>no</td>\n",
       "      <td>Spanish</td>\n",
       "    </tr>\n",
       "    <tr>\n",
       "      <th>1</th>\n",
       "      <td>546468</td>\n",
       "      <td>treatment</td>\n",
       "      <td>new</td>\n",
       "      <td>7.13</td>\n",
       "      <td>yes</td>\n",
       "      <td>English</td>\n",
       "    </tr>\n",
       "    <tr>\n",
       "      <th>2</th>\n",
       "      <td>546462</td>\n",
       "      <td>treatment</td>\n",
       "      <td>new</td>\n",
       "      <td>4.40</td>\n",
       "      <td>no</td>\n",
       "      <td>Spanish</td>\n",
       "    </tr>\n",
       "    <tr>\n",
       "      <th>3</th>\n",
       "      <td>546567</td>\n",
       "      <td>control</td>\n",
       "      <td>old</td>\n",
       "      <td>3.02</td>\n",
       "      <td>no</td>\n",
       "      <td>French</td>\n",
       "    </tr>\n",
       "    <tr>\n",
       "      <th>4</th>\n",
       "      <td>546459</td>\n",
       "      <td>treatment</td>\n",
       "      <td>new</td>\n",
       "      <td>4.75</td>\n",
       "      <td>yes</td>\n",
       "      <td>Spanish</td>\n",
       "    </tr>\n",
       "  </tbody>\n",
       "</table>\n",
       "</div>"
      ],
      "text/plain": [
       "   user_id      group landing_page  time_spent_on_the_page converted  \\\n",
       "0   546592    control          old                    3.48        no   \n",
       "1   546468  treatment          new                    7.13       yes   \n",
       "2   546462  treatment          new                    4.40        no   \n",
       "3   546567    control          old                    3.02        no   \n",
       "4   546459  treatment          new                    4.75       yes   \n",
       "\n",
       "  language_preferred  \n",
       "0            Spanish  \n",
       "1            English  \n",
       "2            Spanish  \n",
       "3             French  \n",
       "4            Spanish  "
      ]
     },
     "execution_count": 41,
     "metadata": {},
     "output_type": "execute_result"
    }
   ],
   "source": [
    "#First five columns \n",
    "df.head()"
   ]
  },
  {
   "cell_type": "code",
   "execution_count": 42,
   "id": "c1aab229",
   "metadata": {
    "ExecuteTime": {
     "end_time": "2022-09-23T16:06:32.202935Z",
     "start_time": "2022-09-23T16:06:32.182345Z"
    }
   },
   "outputs": [
    {
     "data": {
      "text/html": [
       "<div>\n",
       "<style scoped>\n",
       "    .dataframe tbody tr th:only-of-type {\n",
       "        vertical-align: middle;\n",
       "    }\n",
       "\n",
       "    .dataframe tbody tr th {\n",
       "        vertical-align: top;\n",
       "    }\n",
       "\n",
       "    .dataframe thead th {\n",
       "        text-align: right;\n",
       "    }\n",
       "</style>\n",
       "<table border=\"1\" class=\"dataframe\">\n",
       "  <thead>\n",
       "    <tr style=\"text-align: right;\">\n",
       "      <th></th>\n",
       "      <th>user_id</th>\n",
       "      <th>group</th>\n",
       "      <th>landing_page</th>\n",
       "      <th>time_spent_on_the_page</th>\n",
       "      <th>converted</th>\n",
       "      <th>language_preferred</th>\n",
       "    </tr>\n",
       "  </thead>\n",
       "  <tbody>\n",
       "    <tr>\n",
       "      <th>95</th>\n",
       "      <td>546446</td>\n",
       "      <td>treatment</td>\n",
       "      <td>new</td>\n",
       "      <td>5.15</td>\n",
       "      <td>no</td>\n",
       "      <td>Spanish</td>\n",
       "    </tr>\n",
       "    <tr>\n",
       "      <th>96</th>\n",
       "      <td>546544</td>\n",
       "      <td>control</td>\n",
       "      <td>old</td>\n",
       "      <td>6.52</td>\n",
       "      <td>yes</td>\n",
       "      <td>English</td>\n",
       "    </tr>\n",
       "    <tr>\n",
       "      <th>97</th>\n",
       "      <td>546472</td>\n",
       "      <td>treatment</td>\n",
       "      <td>new</td>\n",
       "      <td>7.07</td>\n",
       "      <td>yes</td>\n",
       "      <td>Spanish</td>\n",
       "    </tr>\n",
       "    <tr>\n",
       "      <th>98</th>\n",
       "      <td>546481</td>\n",
       "      <td>treatment</td>\n",
       "      <td>new</td>\n",
       "      <td>6.20</td>\n",
       "      <td>yes</td>\n",
       "      <td>Spanish</td>\n",
       "    </tr>\n",
       "    <tr>\n",
       "      <th>99</th>\n",
       "      <td>546483</td>\n",
       "      <td>treatment</td>\n",
       "      <td>new</td>\n",
       "      <td>5.86</td>\n",
       "      <td>yes</td>\n",
       "      <td>English</td>\n",
       "    </tr>\n",
       "  </tbody>\n",
       "</table>\n",
       "</div>"
      ],
      "text/plain": [
       "    user_id      group landing_page  time_spent_on_the_page converted  \\\n",
       "95   546446  treatment          new                    5.15        no   \n",
       "96   546544    control          old                    6.52       yes   \n",
       "97   546472  treatment          new                    7.07       yes   \n",
       "98   546481  treatment          new                    6.20       yes   \n",
       "99   546483  treatment          new                    5.86       yes   \n",
       "\n",
       "   language_preferred  \n",
       "95            Spanish  \n",
       "96            English  \n",
       "97            Spanish  \n",
       "98            Spanish  \n",
       "99            English  "
      ]
     },
     "execution_count": 42,
     "metadata": {},
     "output_type": "execute_result"
    }
   ],
   "source": [
    "#Last 5 columns \n",
    "df.tail()"
   ]
  },
  {
   "cell_type": "code",
   "execution_count": 43,
   "id": "5c5bbe73",
   "metadata": {
    "ExecuteTime": {
     "end_time": "2022-09-23T16:06:32.404700Z",
     "start_time": "2022-09-23T16:06:32.383461Z"
    }
   },
   "outputs": [
    {
     "name": "stdout",
     "output_type": "stream",
     "text": [
      "This dataset has 100 rows and 6 columns \n"
     ]
    }
   ],
   "source": [
    "print(f'This dataset has {df.shape[0]} rows and {df.shape[1]} columns ')"
   ]
  },
  {
   "cell_type": "code",
   "execution_count": 44,
   "id": "75133126",
   "metadata": {
    "ExecuteTime": {
     "end_time": "2022-09-23T16:06:32.617513Z",
     "start_time": "2022-09-23T16:06:32.595262Z"
    }
   },
   "outputs": [
    {
     "name": "stdout",
     "output_type": "stream",
     "text": [
      "<class 'pandas.core.frame.DataFrame'>\n",
      "RangeIndex: 100 entries, 0 to 99\n",
      "Data columns (total 6 columns):\n",
      " #   Column                  Non-Null Count  Dtype  \n",
      "---  ------                  --------------  -----  \n",
      " 0   user_id                 100 non-null    int64  \n",
      " 1   group                   100 non-null    object \n",
      " 2   landing_page            100 non-null    object \n",
      " 3   time_spent_on_the_page  100 non-null    float64\n",
      " 4   converted               100 non-null    object \n",
      " 5   language_preferred      100 non-null    object \n",
      "dtypes: float64(1), int64(1), object(4)\n",
      "memory usage: 4.8+ KB\n"
     ]
    }
   ],
   "source": [
    "#Overview of data \n",
    "df.info()"
   ]
  },
  {
   "cell_type": "markdown",
   "id": "0fcdbc6b",
   "metadata": {},
   "source": [
    "We have a total of 6 columns with two numerical columns and 4 object columns.This datset is fairly small only having 100 rows  "
   ]
  },
  {
   "cell_type": "code",
   "execution_count": 45,
   "id": "0b2e498f",
   "metadata": {
    "ExecuteTime": {
     "end_time": "2022-09-23T16:06:32.997230Z",
     "start_time": "2022-09-23T16:06:32.972138Z"
    }
   },
   "outputs": [
    {
     "data": {
      "text/html": [
       "<div>\n",
       "<style scoped>\n",
       "    .dataframe tbody tr th:only-of-type {\n",
       "        vertical-align: middle;\n",
       "    }\n",
       "\n",
       "    .dataframe tbody tr th {\n",
       "        vertical-align: top;\n",
       "    }\n",
       "\n",
       "    .dataframe thead th {\n",
       "        text-align: right;\n",
       "    }\n",
       "</style>\n",
       "<table border=\"1\" class=\"dataframe\">\n",
       "  <thead>\n",
       "    <tr style=\"text-align: right;\">\n",
       "      <th></th>\n",
       "      <th>user_id</th>\n",
       "      <th>time_spent_on_the_page</th>\n",
       "    </tr>\n",
       "  </thead>\n",
       "  <tbody>\n",
       "    <tr>\n",
       "      <th>count</th>\n",
       "      <td>100.000000</td>\n",
       "      <td>100.000000</td>\n",
       "    </tr>\n",
       "    <tr>\n",
       "      <th>mean</th>\n",
       "      <td>546517.000000</td>\n",
       "      <td>5.377800</td>\n",
       "    </tr>\n",
       "    <tr>\n",
       "      <th>std</th>\n",
       "      <td>52.295779</td>\n",
       "      <td>2.378166</td>\n",
       "    </tr>\n",
       "    <tr>\n",
       "      <th>min</th>\n",
       "      <td>546443.000000</td>\n",
       "      <td>0.190000</td>\n",
       "    </tr>\n",
       "    <tr>\n",
       "      <th>25%</th>\n",
       "      <td>546467.750000</td>\n",
       "      <td>3.880000</td>\n",
       "    </tr>\n",
       "    <tr>\n",
       "      <th>50%</th>\n",
       "      <td>546492.500000</td>\n",
       "      <td>5.415000</td>\n",
       "    </tr>\n",
       "    <tr>\n",
       "      <th>75%</th>\n",
       "      <td>546567.250000</td>\n",
       "      <td>7.022500</td>\n",
       "    </tr>\n",
       "    <tr>\n",
       "      <th>max</th>\n",
       "      <td>546592.000000</td>\n",
       "      <td>10.710000</td>\n",
       "    </tr>\n",
       "  </tbody>\n",
       "</table>\n",
       "</div>"
      ],
      "text/plain": [
       "             user_id  time_spent_on_the_page\n",
       "count     100.000000              100.000000\n",
       "mean   546517.000000                5.377800\n",
       "std        52.295779                2.378166\n",
       "min    546443.000000                0.190000\n",
       "25%    546467.750000                3.880000\n",
       "50%    546492.500000                5.415000\n",
       "75%    546567.250000                7.022500\n",
       "max    546592.000000               10.710000"
      ]
     },
     "execution_count": 45,
     "metadata": {},
     "output_type": "execute_result"
    }
   ],
   "source": [
    "df.describe()"
   ]
  },
  {
   "cell_type": "markdown",
   "id": "6eaebd30",
   "metadata": {},
   "source": [
    "We can that the average time spent was 5.37 minutes. With the lowest being 20 seconds and the longest being 10 minutes "
   ]
  },
  {
   "cell_type": "code",
   "execution_count": 46,
   "id": "ba8729a6",
   "metadata": {
    "ExecuteTime": {
     "end_time": "2022-09-23T16:06:33.367265Z",
     "start_time": "2022-09-23T16:06:33.359165Z"
    }
   },
   "outputs": [
    {
     "data": {
      "text/plain": [
       "user_id                   0\n",
       "group                     0\n",
       "landing_page              0\n",
       "time_spent_on_the_page    0\n",
       "converted                 0\n",
       "language_preferred        0\n",
       "dtype: int64"
      ]
     },
     "execution_count": 46,
     "metadata": {},
     "output_type": "execute_result"
    }
   ],
   "source": [
    "df.isna().sum()"
   ]
  },
  {
   "cell_type": "markdown",
   "id": "18099552",
   "metadata": {},
   "source": [
    "No na values in our dataset"
   ]
  },
  {
   "cell_type": "markdown",
   "id": "68f3b2c9",
   "metadata": {
    "id": "68f3b2c9"
   },
   "source": [
    "### Univariate Analysis"
   ]
  },
  {
   "cell_type": "code",
   "execution_count": null,
   "id": "1a19fd88",
   "metadata": {},
   "outputs": [],
   "source": []
  },
  {
   "cell_type": "code",
   "execution_count": 47,
   "id": "1932d0f3",
   "metadata": {
    "ExecuteTime": {
     "end_time": "2022-09-23T16:06:34.339164Z",
     "start_time": "2022-09-23T16:06:34.163507Z"
    },
    "id": "1932d0f3"
   },
   "outputs": [
    {
     "data": {
      "image/png": "[encoded data removed]",
      "text/plain": [
       "<Figure size 432x288 with 1 Axes>"
      ]
     },
     "metadata": {
      "needs_background": "light"
     },
     "output_type": "display_data"
    },
    {
     "data": {
      "image/png": "[encoded data removed]",
      "text/plain": [
       "<Figure size 432x288 with 1 Axes>"
      ]
     },
     "metadata": {
      "needs_background": "light"
     },
     "output_type": "display_data"
    }
   ],
   "source": [
    "sns.histplot(df.time_spent_on_the_page, stat= 'density')\n",
    "plt.show()\n",
    "sns.boxplot(data = df,  x = 'time_spent_on_the_page')\n",
    "plt.show()"
   ]
  },
  {
   "cell_type": "markdown",
   "id": "fad2de2f",
   "metadata": {
    "id": "fad2de2f"
   },
   "source": [
    "### Bivariate Analysis"
   ]
  },
  {
   "cell_type": "code",
   "execution_count": 48,
   "id": "b89749c9",
   "metadata": {
    "ExecuteTime": {
     "end_time": "2022-09-23T16:06:34.794426Z",
     "start_time": "2022-09-23T16:06:34.769746Z"
    }
   },
   "outputs": [
    {
     "data": {
      "text/html": [
       "<div>\n",
       "<style scoped>\n",
       "    .dataframe tbody tr th:only-of-type {\n",
       "        vertical-align: middle;\n",
       "    }\n",
       "\n",
       "    .dataframe tbody tr th {\n",
       "        vertical-align: top;\n",
       "    }\n",
       "\n",
       "    .dataframe thead th {\n",
       "        text-align: right;\n",
       "    }\n",
       "</style>\n",
       "<table border=\"1\" class=\"dataframe\">\n",
       "  <thead>\n",
       "    <tr style=\"text-align: right;\">\n",
       "      <th>converted</th>\n",
       "      <th>no</th>\n",
       "      <th>yes</th>\n",
       "      <th>conversion_rate</th>\n",
       "    </tr>\n",
       "    <tr>\n",
       "      <th>group</th>\n",
       "      <th></th>\n",
       "      <th></th>\n",
       "      <th></th>\n",
       "    </tr>\n",
       "  </thead>\n",
       "  <tbody>\n",
       "    <tr>\n",
       "      <th>control</th>\n",
       "      <td>29</td>\n",
       "      <td>21</td>\n",
       "      <td>0.42</td>\n",
       "    </tr>\n",
       "    <tr>\n",
       "      <th>treatment</th>\n",
       "      <td>17</td>\n",
       "      <td>33</td>\n",
       "      <td>0.66</td>\n",
       "    </tr>\n",
       "  </tbody>\n",
       "</table>\n",
       "</div>"
      ],
      "text/plain": [
       "converted  no  yes  conversion_rate\n",
       "group                              \n",
       "control    29   21             0.42\n",
       "treatment  17   33             0.66"
      ]
     },
     "execution_count": 48,
     "metadata": {},
     "output_type": "execute_result"
    }
   ],
   "source": [
    "# A contingency table usually shows frequencies for particular combinations of values of two discrete random column  \n",
    "cross = pd.crosstab(df.group, df.converted)\n",
    "cross['conversion_rate'] = cross.yes/cross.sum(axis = 1)\n",
    "cross"
   ]
  },
  {
   "cell_type": "markdown",
   "id": "c7b5e74e",
   "metadata": {},
   "source": [
    "We can see that we have an even split of 50/50 from control and treatment. More people seem to be converting in treatment group with a 66% percentage converting. "
   ]
  },
  {
   "cell_type": "code",
   "execution_count": 49,
   "id": "58e9a1d0",
   "metadata": {
    "ExecuteTime": {
     "end_time": "2022-09-23T16:06:35.382079Z",
     "start_time": "2022-09-23T16:06:35.193620Z"
    },
    "id": "58e9a1d0"
   },
   "outputs": [
    {
     "data": {
      "image/png": "[encoded data removed]",
      "text/plain": [
       "<Figure size 360x360 with 1 Axes>"
      ]
     },
     "metadata": {
      "needs_background": "light"
     },
     "output_type": "display_data"
    }
   ],
   "source": [
    "# Plotting landing page against time spent on the page \n",
    "sns.catplot(data = df,y ='time_spent_on_the_page', x = 'landing_page', kind = 'bar')\n",
    "plt.title('Time Spent by Group'.title())\n",
    "plt.show()"
   ]
  },
  {
   "cell_type": "markdown",
   "id": "9bf164b2",
   "metadata": {},
   "source": [
    "We can see that  the new page has more time spent on"
   ]
  },
  {
   "cell_type": "code",
   "execution_count": 50,
   "id": "ea294dbf",
   "metadata": {
    "ExecuteTime": {
     "end_time": "2022-09-23T16:06:36.048698Z",
     "start_time": "2022-09-23T16:06:35.668433Z"
    }
   },
   "outputs": [
    {
     "data": {
      "image/png": "[encoded data removed]",
      "text/plain": [
       "<Figure size 1080x360 with 3 Axes>"
      ]
     },
     "metadata": {
      "needs_background": "light"
     },
     "output_type": "display_data"
    }
   ],
   "source": [
    "#plotting different time spent by the language preferred of each group \n",
    "sns.catplot(data = df,y ='time_spent_on_the_page', x = 'group', kind = 'bar', col = 'language_preferred')\n",
    "plt.show()"
   ]
  },
  {
   "cell_type": "markdown",
   "id": "cb80b5ff",
   "metadata": {},
   "source": [
    "We continue to see a increase of time spent in the treament column for each language "
   ]
  },
  {
   "cell_type": "code",
   "execution_count": 51,
   "id": "fdb930c3",
   "metadata": {
    "ExecuteTime": {
     "end_time": "2022-09-23T16:06:36.353109Z",
     "start_time": "2022-09-23T16:06:36.093194Z"
    }
   },
   "outputs": [
    {
     "data": {
      "image/png": "[encoded data removed]",
      "text/plain": [
       "<Figure size 418.375x360 with 1 Axes>"
      ]
     },
     "metadata": {
      "needs_background": "light"
     },
     "output_type": "display_data"
    }
   ],
   "source": [
    "sns.catplot(data = df,y ='time_spent_on_the_page', x = 'group', kind = 'bar',hue = 'converted')\n",
    "plt.show()"
   ]
  },
  {
   "cell_type": "markdown",
   "id": "1ca6aeb7",
   "metadata": {},
   "source": [
    "We can see that treamt had more converted users and as well overall more time spent."
   ]
  },
  {
   "cell_type": "code",
   "execution_count": 52,
   "id": "9fdfd54e",
   "metadata": {
    "ExecuteTime": {
     "end_time": "2022-09-23T16:06:37.146680Z",
     "start_time": "2022-09-23T16:06:36.581769Z"
    }
   },
   "outputs": [
    {
     "data": {
      "image/png": "[encoded data removed]",
      "text/plain": [
       "<Figure size 1138.38x360 with 3 Axes>"
      ]
     },
     "metadata": {
      "needs_background": "light"
     },
     "output_type": "display_data"
    }
   ],
   "source": [
    "sns.catplot(data = df,y ='time_spent_on_the_page', x = 'group', kind = 'bar',hue = 'converted', col='language_preferred')\n",
    "plt.show()"
   ]
  },
  {
   "cell_type": "markdown",
   "id": "44129d04",
   "metadata": {},
   "source": [
    "Here we see the same pattern contiuing with treament group having higher and time spent in the converted column yes in each language "
   ]
  },
  {
   "cell_type": "markdown",
   "id": "27906576",
   "metadata": {
    "id": "27906576"
   },
   "source": [
    "## 1. Do the users spend more time on the new landing page than the existing landing page?"
   ]
  },
  {
   "cell_type": "markdown",
   "id": "e5fdf0c8",
   "metadata": {
    "id": "e5fdf0c8"
   },
   "source": [
    "### Perform Visual Analysis"
   ]
  },
  {
   "cell_type": "code",
   "execution_count": 53,
   "id": "47ef7ccf",
   "metadata": {
    "ExecuteTime": {
     "end_time": "2022-09-23T16:06:40.021556Z",
     "start_time": "2022-09-23T16:06:40.010777Z"
    }
   },
   "outputs": [
    {
     "data": {
      "text/plain": [
       "landing_page\n",
       "new    311.16\n",
       "old    226.62\n",
       "Name: time_spent_on_the_page, dtype: float64"
      ]
     },
     "execution_count": 53,
     "metadata": {},
     "output_type": "execute_result"
    }
   ],
   "source": [
    "df.groupby('landing_page')['time_spent_on_the_page'].sum()"
   ]
  },
  {
   "cell_type": "code",
   "execution_count": 54,
   "id": "6eZJa41eg21n",
   "metadata": {
    "ExecuteTime": {
     "end_time": "2022-09-23T16:06:40.821900Z",
     "start_time": "2022-09-23T16:06:40.723792Z"
    },
    "id": "6eZJa41eg21n"
   },
   "outputs": [
    {
     "data": {
      "image/png": "[encoded data removed]",
      "text/plain": [
       "<Figure size 720x720 with 1 Axes>"
      ]
     },
     "metadata": {},
     "output_type": "display_data"
    }
   ],
   "source": [
    "colors = sns.color_palette(\"hsv\")[2:5]\n",
    "labels = df.group.unique()\n",
    "plt.figure(figsize= (10,10))\n",
    "plt.pie(df.groupby('group')['time_spent_on_the_page'].sum(),\n",
    "        labels = labels, \n",
    "        colors=colors, \n",
    "        autopct= '%.2f%%', \n",
    "        shadow= True, \n",
    "        explode = [.08, .08],\n",
    "        startangle=60,\n",
    "        wedgeprops={'edgecolor': 'white'},\n",
    "        pctdistance=0.8\n",
    "        )\n",
    "centre_circle = plt.Circle((0,0),0.50,fc='white')\n",
    "fig = plt.gcf()\n",
    "fig.gca().add_artist(centre_circle)\n",
    "plt.show()"
   ]
  },
  {
   "cell_type": "markdown",
   "id": "8dd78db8",
   "metadata": {},
   "source": [
    "We can see that treament had more time spent with 311 minutes and 57.86% of the whole "
   ]
  },
  {
   "cell_type": "markdown",
   "id": "56b3dafd",
   "metadata": {
    "id": "56b3dafd"
   },
   "source": [
    "### Step 1: Define the null and alternate hypotheses"
   ]
  },
  {
   "cell_type": "markdown",
   "id": "d2ac77ef",
   "metadata": {
    "id": "d2ac77ef"
   },
   "source": [
    "# H0 Control Group and Treament  Group have the same amount spent \n",
    "# H1 Control Group and Treament Group have different amount spent "
   ]
  },
  {
   "cell_type": "markdown",
   "id": "c7ee4907",
   "metadata": {
    "id": "c7ee4907"
   },
   "source": [
    "### Step 2: Select Appropriate test"
   ]
  },
  {
   "cell_type": "markdown",
   "id": "2c183cd7",
   "metadata": {
    "id": "2c183cd7"
   },
   "source": [
    "We will use scipy.stats.ttest_ind.  It Calculate the T-test for the means of two independent samples of scores.\n",
    "\n",
    "This is a test for the null hypothesis that 2 independent samples have identical average (expected) values. This test assumes that the populations have identical variances by default."
   ]
  },
  {
   "cell_type": "markdown",
   "id": "3f58c9a7",
   "metadata": {
    "id": "3f58c9a7"
   },
   "source": [
    "### Step 3: Decide the significance level"
   ]
  },
  {
   "cell_type": "markdown",
   "id": "92d7d7ee",
   "metadata": {
    "id": "92d7d7ee"
   },
   "source": [
    "We will use 0.05 as our Significance Level"
   ]
  },
  {
   "cell_type": "markdown",
   "id": "5fed2eac",
   "metadata": {
    "id": "5fed2eac"
   },
   "source": [
    "### Step 4: Collect and prepare data"
   ]
  },
  {
   "cell_type": "code",
   "execution_count": 55,
   "id": "f5a59495",
   "metadata": {
    "ExecuteTime": {
     "end_time": "2022-09-23T16:06:45.471122Z",
     "start_time": "2022-09-23T16:06:45.454307Z"
    },
    "id": "f5a59495"
   },
   "outputs": [],
   "source": [
    "control = df.loc[df['group'] == 'control']\n",
    "treatment = df.loc[df['group'] == 'treatment']"
   ]
  },
  {
   "cell_type": "code",
   "execution_count": 56,
   "id": "787d71ef",
   "metadata": {
    "ExecuteTime": {
     "end_time": "2022-09-23T16:06:45.687958Z",
     "start_time": "2022-09-23T16:06:45.678574Z"
    }
   },
   "outputs": [
    {
     "name": "stdout",
     "output_type": "stream",
     "text": [
      "The mean usage time of control group is 4.532400000000001\n",
      "The mean usage time of treament group is 6.2232\n",
      "The standard deviation of usage time of control group is 2.58\n",
      "The standard deviation of usage time of treament group  is 1.82\n"
     ]
    }
   ],
   "source": [
    "# find the sample means and sample standard deviations for the two samples\n",
    "print('The mean usage time of control group is ' + str(control['time_spent_on_the_page'].mean()))\n",
    "print('The mean usage time of treament group is ' + str(treatment['time_spent_on_the_page'].mean()))\n",
    "print('The standard deviation of usage time of control group is ' + str(round(control['time_spent_on_the_page'].std(),2)))\n",
    "print('The standard deviation of usage time of treament group  is ' + str(round(treatment['time_spent_on_the_page'].std(),2)))"
   ]
  },
  {
   "cell_type": "markdown",
   "id": "f5c5258d",
   "metadata": {
    "id": "f5c5258d"
   },
   "source": [
    "### Step 5: Calculate the p-value"
   ]
  },
  {
   "cell_type": "code",
   "execution_count": 57,
   "id": "fac8594a",
   "metadata": {
    "ExecuteTime": {
     "end_time": "2022-09-23T16:06:46.089043Z",
     "start_time": "2022-09-23T16:06:46.078290Z"
    },
    "id": "fac8594a"
   },
   "outputs": [],
   "source": [
    "results = st.ttest_ind(control['time_spent_on_the_page'], treatment['time_spent_on_the_page'], equal_var= False, alternative= 'two-sided')"
   ]
  },
  {
   "cell_type": "markdown",
   "id": "359b12f8",
   "metadata": {
    "id": "359b12f8"
   },
   "source": [
    "### Step 6: Compare the p-value with $\\alpha$"
   ]
  },
  {
   "cell_type": "code",
   "execution_count": 58,
   "id": "7be47289",
   "metadata": {
    "ExecuteTime": {
     "end_time": "2022-09-23T16:06:46.972499Z",
     "start_time": "2022-09-23T16:06:46.961691Z"
    },
    "id": "7be47289"
   },
   "outputs": [
    {
     "name": "stdout",
     "output_type": "stream",
     "text": [
      "p-value:  0.0002784762450333098\n",
      "We reject the null hypothesis\n"
     ]
    }
   ],
   "source": [
    "alpha = 0.05  # critical statistical significance\n",
    "\n",
    "print('p-value: ', results.pvalue)\n",
    "\n",
    "if results.pvalue < alpha:\n",
    "    print('We reject the null hypothesis')\n",
    "else:\n",
    "    print(\"We can't reject the null hypothesis\")"
   ]
  },
  {
   "cell_type": "markdown",
   "id": "d9affc84",
   "metadata": {
    "id": "d9affc84"
   },
   "source": [
    "### Step 7:  Draw inference"
   ]
  },
  {
   "cell_type": "markdown",
   "id": "6b16dd4b",
   "metadata": {
    "id": "6b16dd4b"
   },
   "source": [
    "We can reject the null hypothesis and say that the two groups have different time spent "
   ]
  },
  {
   "cell_type": "markdown",
   "id": "1ad0823a",
   "metadata": {
    "id": "1ad0823a"
   },
   "source": [
    "**A similar approach can be followed to answer the other questions.**"
   ]
  },
  {
   "cell_type": "markdown",
   "id": "353e9d24",
   "metadata": {
    "id": "353e9d24"
   },
   "source": [
    "## 2. Is the conversion rate (the proportion of users who visit the landing page and get converted) for the new page greater than the conversion rate for the old page?"
   ]
  },
  {
   "cell_type": "markdown",
   "id": "1f4695aa",
   "metadata": {
    "id": "b7f52898"
   },
   "source": [
    "### Let's write the null and alternative hypothesis\n",
    "Let p1,p2 be the proportions of defects in conversion old page and landing page respectively.\n",
    "Will test the null hypothesis\n",
    "\n",
    "- H0: p1 = p2\n",
    "\n",
    "against the alternate hypothesis \n",
    "\n",
    "- HA: p1 != p2\n"
   ]
  },
  {
   "cell_type": "markdown",
   "id": "7cb7ec1f",
   "metadata": {},
   "source": [
    "We will use the statsmodels.stats.proportion.proportions_ztest\n",
    "Test for proportions based on normal (z) test"
   ]
  },
  {
   "cell_type": "code",
   "execution_count": 59,
   "id": "6ad65f17",
   "metadata": {
    "ExecuteTime": {
     "end_time": "2022-09-23T16:06:49.115763Z",
     "start_time": "2022-09-23T16:06:48.994032Z"
    }
   },
   "outputs": [
    {
     "data": {
      "image/png": "[encoded data removed]",
      "text/plain": [
       "<Figure size 432x576 with 1 Axes>"
      ]
     },
     "metadata": {
      "needs_background": "light"
     },
     "output_type": "display_data"
    }
   ],
   "source": [
    "ax = pd.crosstab(df.group,df.converted,normalize='index').plot(kind=\"bar\", figsize=(6,8), stacked=True)\n",
    "plt.legend()\n",
    "plt.show()"
   ]
  },
  {
   "cell_type": "code",
   "execution_count": 60,
   "id": "f8569cd3",
   "metadata": {
    "ExecuteTime": {
     "end_time": "2022-09-23T16:06:49.250733Z",
     "start_time": "2022-09-23T16:06:49.227716Z"
    }
   },
   "outputs": [
    {
     "data": {
      "text/html": [
       "<div>\n",
       "<style scoped>\n",
       "    .dataframe tbody tr th:only-of-type {\n",
       "        vertical-align: middle;\n",
       "    }\n",
       "\n",
       "    .dataframe tbody tr th {\n",
       "        vertical-align: top;\n",
       "    }\n",
       "\n",
       "    .dataframe thead th {\n",
       "        text-align: right;\n",
       "    }\n",
       "</style>\n",
       "<table border=\"1\" class=\"dataframe\">\n",
       "  <thead>\n",
       "    <tr style=\"text-align: right;\">\n",
       "      <th>converted</th>\n",
       "      <th>no</th>\n",
       "      <th>yes</th>\n",
       "      <th>conversion_rate</th>\n",
       "    </tr>\n",
       "    <tr>\n",
       "      <th>group</th>\n",
       "      <th></th>\n",
       "      <th></th>\n",
       "      <th></th>\n",
       "    </tr>\n",
       "  </thead>\n",
       "  <tbody>\n",
       "    <tr>\n",
       "      <th>control</th>\n",
       "      <td>29</td>\n",
       "      <td>21</td>\n",
       "      <td>0.42</td>\n",
       "    </tr>\n",
       "    <tr>\n",
       "      <th>treatment</th>\n",
       "      <td>17</td>\n",
       "      <td>33</td>\n",
       "      <td>0.66</td>\n",
       "    </tr>\n",
       "  </tbody>\n",
       "</table>\n",
       "</div>"
      ],
      "text/plain": [
       "converted  no  yes  conversion_rate\n",
       "group                              \n",
       "control    29   21             0.42\n",
       "treatment  17   33             0.66"
      ]
     },
     "execution_count": 60,
     "metadata": {},
     "output_type": "execute_result"
    }
   ],
   "source": [
    "cross = pd.crosstab(df.group, df.converted)\n",
    "cross['conversion_rate'] = cross.yes/cross.sum(axis = 1)\n",
    "cross"
   ]
  },
  {
   "cell_type": "code",
   "execution_count": 61,
   "id": "d74c1566",
   "metadata": {
    "ExecuteTime": {
     "end_time": "2022-09-23T16:06:49.453034Z",
     "start_time": "2022-09-23T16:06:49.441941Z"
    }
   },
   "outputs": [],
   "source": [
    "# set the counts of defective items\n",
    "defect_count = np.array([21, 33])\n",
    "\n",
    "# set the sample sizes\n",
    "nobs = np.array([50, 50])\n",
    "\n",
    "\n",
    "result  =  proportions_ztest(defect_count, nobs)"
   ]
  },
  {
   "cell_type": "code",
   "execution_count": 62,
   "id": "8ea30b49",
   "metadata": {
    "ExecuteTime": {
     "end_time": "2022-09-23T16:06:49.666414Z",
     "start_time": "2022-09-23T16:06:49.658853Z"
    }
   },
   "outputs": [
    {
     "name": "stdout",
     "output_type": "stream",
     "text": [
      "p-value:  0.0002784762450333098\n",
      "We reject the null hypothesis\n"
     ]
    }
   ],
   "source": [
    "alpha = 0.05  # critical statistical significance\n",
    "\n",
    "print('p-value: ', results.pvalue)\n",
    "\n",
    "if results.pvalue < alpha:\n",
    "    print('We reject the null hypothesis')\n",
    "else:\n",
    "    print(\"We can't reject the null hypothesis\")"
   ]
  },
  {
   "cell_type": "markdown",
   "id": "565329ab",
   "metadata": {
    "ExecuteTime": {
     "end_time": "2022-09-21T15:46:52.838944Z",
     "start_time": "2022-09-21T15:46:52.832919Z"
    }
   },
   "source": [
    "## Draw inference\n",
    "Yes we can conclude that the  conversion rate for the new page is greater than the conversion rate for the old page. "
   ]
  },
  {
   "cell_type": "markdown",
   "id": "d49bfa2d",
   "metadata": {
    "id": "d49bfa2d"
   },
   "source": [
    "## 3. Is the conversion and preferred language are independent or related?"
   ]
  },
  {
   "cell_type": "markdown",
   "id": "90c93c0f",
   "metadata": {},
   "source": [
    "### Let's write the null and alternative hypothesis\n",
    "We will test the null hypothesis\n",
    "- H0: Conversion is independent of language\n",
    "\n",
    "\n",
    "against the alternate hypothesis\n",
    "- HA: Conversion is dependent of language \n",
    "\n"
   ]
  },
  {
   "cell_type": "markdown",
   "id": "3bbcd770",
   "metadata": {},
   "source": [
    "This function computes the chi-square statistic and p-value for the hypothesis test of independence of the observed frequencies in the contingency table. The expected frequencies are computed based on the marginal sums under the assumption of independence;"
   ]
  },
  {
   "cell_type": "code",
   "execution_count": 63,
   "id": "2b028c0c",
   "metadata": {
    "ExecuteTime": {
     "end_time": "2022-09-23T16:06:50.721178Z",
     "start_time": "2022-09-23T16:06:50.701118Z"
    }
   },
   "outputs": [
    {
     "data": {
      "text/html": [
       "<div>\n",
       "<style scoped>\n",
       "    .dataframe tbody tr th:only-of-type {\n",
       "        vertical-align: middle;\n",
       "    }\n",
       "\n",
       "    .dataframe tbody tr th {\n",
       "        vertical-align: top;\n",
       "    }\n",
       "\n",
       "    .dataframe thead th {\n",
       "        text-align: right;\n",
       "    }\n",
       "</style>\n",
       "<table border=\"1\" class=\"dataframe\">\n",
       "  <thead>\n",
       "    <tr style=\"text-align: right;\">\n",
       "      <th>language_preferred</th>\n",
       "      <th>English</th>\n",
       "      <th>French</th>\n",
       "      <th>Spanish</th>\n",
       "    </tr>\n",
       "    <tr>\n",
       "      <th>converted</th>\n",
       "      <th></th>\n",
       "      <th></th>\n",
       "      <th></th>\n",
       "    </tr>\n",
       "  </thead>\n",
       "  <tbody>\n",
       "    <tr>\n",
       "      <th>no</th>\n",
       "      <td>11</td>\n",
       "      <td>19</td>\n",
       "      <td>16</td>\n",
       "    </tr>\n",
       "    <tr>\n",
       "      <th>yes</th>\n",
       "      <td>21</td>\n",
       "      <td>15</td>\n",
       "      <td>18</td>\n",
       "    </tr>\n",
       "  </tbody>\n",
       "</table>\n",
       "</div>"
      ],
      "text/plain": [
       "language_preferred  English  French  Spanish\n",
       "converted                                   \n",
       "no                       11      19       16\n",
       "yes                      21      15       18"
      ]
     },
     "execution_count": 63,
     "metadata": {},
     "output_type": "execute_result"
    }
   ],
   "source": [
    "crosstab = pd.crosstab(df.converted,df.language_preferred)\n",
    "crosstab"
   ]
  },
  {
   "cell_type": "code",
   "execution_count": 64,
   "id": "b0e63f17",
   "metadata": {
    "ExecuteTime": {
     "end_time": "2022-09-23T16:06:50.946564Z",
     "start_time": "2022-09-23T16:06:50.925994Z"
    },
    "id": "b0e63f17"
   },
   "outputs": [
    {
     "name": "stdout",
     "output_type": "stream",
     "text": [
      "p-value:  0.0002784762450333098\n",
      "We reject the null hypothesis\n"
     ]
    }
   ],
   "source": [
    "result = chi2_contingency(crosstab)\n",
    "alpha = 0.05  # critical statistical significance\n",
    "\n",
    "print('p-value: ', results.pvalue)\n",
    "\n",
    "if results.pvalue < alpha:\n",
    "    print('We reject the null hypothesis')\n",
    "else:\n",
    "    print(\"We can't reject the null hypothesis\")"
   ]
  },
  {
   "cell_type": "markdown",
   "id": "b821c789",
   "metadata": {
    "ExecuteTime": {
     "end_time": "2022-09-21T15:18:35.289216Z",
     "start_time": "2022-09-21T15:18:35.275258Z"
    }
   },
   "source": [
    "### Draw inference\n",
    "\n",
    "We reject the null hypothesis and say that converted is dependent on language preferred "
   ]
  },
  {
   "cell_type": "markdown",
   "id": "8d585a90",
   "metadata": {
    "id": "8d585a90"
   },
   "source": [
    "## 4. Is the time spent on the new page same for the different language users?"
   ]
  },
  {
   "cell_type": "code",
   "execution_count": 65,
   "id": "7cb184e9",
   "metadata": {
    "ExecuteTime": {
     "end_time": "2022-09-23T16:06:51.582853Z",
     "start_time": "2022-09-23T16:06:51.563793Z"
    }
   },
   "outputs": [],
   "source": [
    "df_new = df[df['landing_page'] == 'new']"
   ]
  },
  {
   "cell_type": "code",
   "execution_count": 66,
   "id": "b7f43d14",
   "metadata": {
    "ExecuteTime": {
     "end_time": "2022-09-23T16:06:51.930169Z",
     "start_time": "2022-09-23T16:06:51.791720Z"
    }
   },
   "outputs": [
    {
     "data": {
      "text/plain": [
       "<AxesSubplot:xlabel='language_preferred', ylabel='time_spent_on_the_page'>"
      ]
     },
     "execution_count": 66,
     "metadata": {},
     "output_type": "execute_result"
    },
    {
     "data": {
      "image/png": "[encoded data removed]",
      "text/plain": [
       "<Figure size 720x720 with 1 Axes>"
      ]
     },
     "metadata": {
      "needs_background": "light"
     },
     "output_type": "display_data"
    }
   ],
   "source": [
    "plt.figure(figsize=(10,10))\n",
    "sns.boxplot(data = df_new, x = 'language_preferred', y = 'time_spent_on_the_page')"
   ]
  },
  {
   "cell_type": "markdown",
   "id": "38b3db4c",
   "metadata": {
    "ExecuteTime": {
     "end_time": "2022-09-22T16:33:00.277174Z",
     "start_time": "2022-09-22T16:33:00.269815Z"
    }
   },
   "source": [
    "## Shapiro-Wilk’s test\n",
    "We will test the null hypothesis\n",
    "\n",
    "H0:Time Spent  follows a normal distribution against\n",
    "\n",
    "against the alternative hypothesis\n",
    "\n",
    "Ha:\n",
    " Time Spent does not follow a normal distribution\n",
    "\n",
    "The shapiro() function of Scipy will be used to compute the test statistic and p-value."
   ]
  },
  {
   "cell_type": "code",
   "execution_count": 67,
   "id": "b0529d00",
   "metadata": {
    "ExecuteTime": {
     "end_time": "2022-09-23T16:06:52.255113Z",
     "start_time": "2022-09-23T16:06:52.239013Z"
    }
   },
   "outputs": [
    {
     "name": "stdout",
     "output_type": "stream",
     "text": [
      "The p-value is 0.8040016293525696\n"
     ]
    }
   ],
   "source": [
    "# Assumption 1: Normality\n",
    "# import the required function\n",
    "from scipy import stats\n",
    "\n",
    "# find the p-value\n",
    "w, p_value = stats.shapiro(df_new['time_spent_on_the_page']) \n",
    "print('The p-value is', p_value)"
   ]
  },
  {
   "cell_type": "markdown",
   "id": "06fc2532",
   "metadata": {},
   "source": [
    "Since p-value of the test is very large, we fail to reject the null hypothesis that the response follows the normal distribution."
   ]
  },
  {
   "cell_type": "markdown",
   "id": "8413f9ce",
   "metadata": {},
   "source": [
    "# Levene’s test\n",
    "We will test the null hypothesis\n",
    "\n",
    "H0: All the population variances are equal\n",
    "\n",
    "against the alternative hypothesis\n",
    "\n",
    "Ha: At least one variance is different from the rest\n",
    "\n",
    "The levene() function of Scipy will be used to compute the test statistic and p-value."
   ]
  },
  {
   "cell_type": "code",
   "execution_count": 68,
   "id": "ca6a478e",
   "metadata": {
    "ExecuteTime": {
     "end_time": "2022-09-23T16:06:52.970215Z",
     "start_time": "2022-09-23T16:06:52.950220Z"
    }
   },
   "outputs": [
    {
     "name": "stdout",
     "output_type": "stream",
     "text": [
      "The p-value is 0.46711357711340173\n"
     ]
    }
   ],
   "source": [
    "#Assumption 2: Homogeneity of Variance\n",
    "#import the required function\n",
    "from scipy.stats import levene\n",
    "\n",
    "statistic, p_value = levene( df_new[df_new['language_preferred']==\"English\"]['time_spent_on_the_page'], \n",
    "                                   df_new[df_new['language_preferred']=='French']['time_spent_on_the_page'], \n",
    "                                   df_new[df_new['language_preferred']=='Spanish']['time_spent_on_the_page'] )\n",
    "# find the p-value\n",
    "print('The p-value is', p_value)"
   ]
  },
  {
   "cell_type": "markdown",
   "id": "15e44d77",
   "metadata": {},
   "source": [
    "Since the p-value is large, we fail to reject the null hypothesis of homogeneity of variances."
   ]
  },
  {
   "cell_type": "markdown",
   "id": "e572374c",
   "metadata": {
    "ExecuteTime": {
     "end_time": "2022-09-22T16:28:37.531188Z",
     "start_time": "2022-09-22T16:28:37.498914Z"
    }
   },
   "source": [
    "## Step 1: Define the null and alternate hypotheses\n",
    "𝐻0: All languages have the same time spent \n",
    "\n",
    "𝐻𝑎: All languages have different time spent \n",
    "\n",
    "## Step 2: Select Appropriate test\n",
    ".f_oneway\n",
    "\n",
    "## Step 3: Decide the significance level\n",
    "As given in the problem statement, we select α = 0.05."
   ]
  },
  {
   "cell_type": "code",
   "execution_count": 69,
   "id": "b422f395",
   "metadata": {
    "ExecuteTime": {
     "end_time": "2022-09-23T16:06:53.629554Z",
     "start_time": "2022-09-23T16:06:53.609663Z"
    },
    "id": "b422f395"
   },
   "outputs": [],
   "source": [
    "# create a subsetted data frame of the time spent on the new page by English language users \n",
    "time_spent_English = df_new[df_new['language_preferred']==\"English\"]['time_spent_on_the_page']\n",
    "# create subsetted data frames of the time spent on the new page by French and Spanish language users\n",
    "time_spent_French = df_new[df_new['language_preferred']=='French']['time_spent_on_the_page']   # complete your code here\n",
    "time_spent_Spanish = df_new[df_new['language_preferred']=='Spanish']['time_spent_on_the_page']  "
   ]
  },
  {
   "cell_type": "code",
   "execution_count": 70,
   "id": "20de10c3",
   "metadata": {
    "ExecuteTime": {
     "end_time": "2022-09-23T16:06:53.844681Z",
     "start_time": "2022-09-23T16:06:53.823660Z"
    }
   },
   "outputs": [
    {
     "name": "stdout",
     "output_type": "stream",
     "text": [
      "The p-value is 0.43204138694325955\n"
     ]
    }
   ],
   "source": [
    "# complete the code to import the required function\n",
    "from scipy.stats import f_oneway\n",
    "\n",
    "# write the code to calculate the p-value\n",
    "test_stat, p_value = f_oneway(time_spent_English, time_spent_French, time_spent_Spanish)   #complete the code by filling appropriate parameters in the blanks\n",
    "\n",
    "print('The p-value is', p_value)"
   ]
  },
  {
   "cell_type": "code",
   "execution_count": 71,
   "id": "b1bde13b",
   "metadata": {
    "ExecuteTime": {
     "end_time": "2022-09-23T16:06:54.055747Z",
     "start_time": "2022-09-23T16:06:54.048113Z"
    }
   },
   "outputs": [
    {
     "name": "stdout",
     "output_type": "stream",
     "text": [
      "As the p-value 0.43204138694325955 is greater than the level of significance, we fail to reject the null hypothesis.\n"
     ]
    }
   ],
   "source": [
    "# print the conclusion based on p-value\n",
    "if p_value < 0.05:\n",
    "    print(f'As the p-value {p_value} is less than the level of significance, we reject the null hypothesis.')\n",
    "else:\n",
    "    print(f'As the p-value {p_value} is greater than the level of significance, we fail to reject the null hypothesis.')"
   ]
  },
  {
   "cell_type": "code",
   "execution_count": 72,
   "id": "c19fb186",
   "metadata": {
    "ExecuteTime": {
     "end_time": "2022-09-23T16:06:54.537929Z",
     "start_time": "2022-09-23T16:06:54.263384Z"
    }
   },
   "outputs": [
    {
     "name": "stdout",
     "output_type": "stream",
     "text": [
      " Multiple Comparison of Means - Tukey HSD, FWER=0.05 \n",
      "=====================================================\n",
      " group1  group2 meandiff p-adj   lower  upper  reject\n",
      "-----------------------------------------------------\n",
      "English  French  -0.4673 0.7434 -2.0035  1.069  False\n",
      "English Spanish  -0.8285 0.3995 -2.3647 0.7078  False\n",
      " French Spanish  -0.3612 0.8326  -1.874 1.1516  False\n",
      "-----------------------------------------------------\n"
     ]
    }
   ],
   "source": [
    "#import the required function\n",
    "from statsmodels.stats.multicomp import pairwise_tukeyhsd\n",
    "\n",
    "# perform multiple pairwise comparison (Tukey HSD)\n",
    "m_comp = pairwise_tukeyhsd(endog = df_new['time_spent_on_the_page'], groups = df_new['language_preferred'], alpha = 0.05)\n",
    "print(m_comp)"
   ]
  },
  {
   "cell_type": "markdown",
   "id": "498c8c98",
   "metadata": {},
   "source": [
    "We can conclude that all Groups have the similar time spent on the page since our p-adj value is greater then our threshold. "
   ]
  },
  {
   "cell_type": "markdown",
   "id": "e8716cbb",
   "metadata": {},
   "source": [
    "## Conclusion and Business Recommendations"
   ]
  },
  {
   "cell_type": "markdown",
   "id": "2d11930d",
   "metadata": {},
   "source": [
    "We have implemented several statistical test since there has been a decline in new monthly subscribers compared to the past year because the current webpage is not designed well enough in terms of the outline & recommended content to keep customers engaged long enough to make a decision to subscribe.\n",
    "\n",
    "1. Do the users spend more time on the new landing page than on the existing landing page?\n",
    "- Yes we can conclude that more time is spent on the landing page of our new sites.\n",
    "\n",
    "\n",
    "\n",
    "2. Is the conversion rate (the proportion of users who visit the landing page and get converted) for the new page greater than the conversion rate for the old page?\n",
    "- Yes we can conclude that the  conversion rate for the new page is greater than the conversion rate for the old page. \n",
    "\n",
    "3. Does the converted status depend on the preferred language?\n",
    "- Yes the converted status depends on the the preferred language \n",
    "\n",
    "\n",
    "4. Is the time spent on the new page the same for the different language users\n",
    "- No time spent is very similar in our new page for each of languages. "
   ]
  },
  {
   "cell_type": "markdown",
   "id": "db15472f",
   "metadata": {},
   "source": [
    "Our new site has led to more time being spent on our new page and resulted with more subcribers converting "
   ]
  }
 ],
 "metadata": {
  "colab": {
   "collapsed_sections": [
    "a6a3d218",
    "6970dd99",
    "9d75cfa2",
    "68f3b2c9",
    "fad2de2f",
    "27906576",
    "e5fdf0c8",
    "56b3dafd",
    "c7ee4907",
    "3f58c9a7",
    "5fed2eac",
    "f5c5258d",
    "359b12f8",
    "d9affc84",
    "353e9d24",
    "d49bfa2d",
    "8d585a90",
    "3acbc947"
   ],
   "name": "ENews_Express_Learner_Notebook_Full_Code v1.1.ipynb",
   "provenance": []
  },
  "kernelspec": {
   "display_name": "Python 3 (ipykernel)",
   "language": "python",
   "name": "python3"
  },
  "language_info": {
   "codemirror_mode": {
    "name": "ipython",
    "version": 3
   },
   "file_extension": ".py",
   "mimetype": "text/x-python",
   "name": "python",
   "nbconvert_exporter": "python",
   "pygments_lexer": "ipython3",
   "version": "3.8.8"
  },
  "nbTranslate": {
   "displayLangs": [
    "*"
   ],
   "hotkey": "alt-t",
   "langInMainMenu": true,
   "sourceLang": "en",
   "targetLang": "fr",
   "useGoogleTranslate": true
  }
 },
 "nbformat": 4,
 "nbformat_minor": 5
}
